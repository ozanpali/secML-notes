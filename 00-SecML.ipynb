{
  "cells": [
    {
      "cell_type": "markdown",
      "source": [
        "# Introduction to the SecML library\n",
        "\n",
        "In this tutorial, you will learn the basic components of the [SecML library](https://github.com/pralab/secml).\n",
        "At the end of the exercise, you will be familiar with the core data structure of the library, the [CArray](https://secml.readthedocs.io/en/v0.15/secml.array.html), and how to import pre-trained machine learning models trained with [scikit-learn](https://scikit-learn.org/stable/index.html) and [PyTorch](https://pytorch.org) (with a brief tutorial on it)."
      ],
      "metadata": {
        "collapsed": false,
        "pycharm": {
          "name": "#%% md\n"
        },
        "id": "7D-SDgBBc6pH"
      }
    },
    {
      "cell_type": "markdown",
      "source": [
        "[![Open In Colab](https://colab.research.google.com/assets/colab-badge.svg)](\n",
        "https://colab.research.google.com/github/zangobot/teaching_material/blob/main/00-SecML.ipynb)"
      ],
      "metadata": {
        "collapsed": false,
        "pycharm": {
          "name": "#%% md\n"
        },
        "id": "DwxwVjd_c6pP"
      }
    },
    {
      "cell_type": "markdown",
      "source": [
        "# Install SecML\n",
        "\n",
        "First, we have to install and import the SecML library. We can do that in Colab with the following lines:"
      ],
      "metadata": {
        "collapsed": false,
        "pycharm": {
          "name": "#%% md\n"
        },
        "id": "7YDfNrIPc6pT"
      }
    },
    {
      "cell_type": "code",
      "execution_count": 1,
      "outputs": [
        {
          "output_type": "stream",
          "name": "stdout",
          "text": [
            "Collecting git+https://github.com/pralab/secml\n",
            "  Cloning https://github.com/pralab/secml to /tmp/pip-req-build-quxtb3wq\n",
            "  Running command git clone --filter=blob:none --quiet https://github.com/pralab/secml /tmp/pip-req-build-quxtb3wq\n",
            "  Resolved https://github.com/pralab/secml to commit 660540d86427ba583cf57b3f07846a2b9494afa0\n",
            "  Preparing metadata (setup.py) ... \u001b[?25l\u001b[?25hdone\n",
            "Requirement already satisfied: numpy>=1.17 in /usr/local/lib/python3.10/dist-packages (from secml==0.15.6) (1.26.4)\n",
            "Requirement already satisfied: scipy>=1.3.2 in /usr/local/lib/python3.10/dist-packages (from secml==0.15.6) (1.13.1)\n",
            "Requirement already satisfied: matplotlib>=3 in /usr/local/lib/python3.10/dist-packages (from secml==0.15.6) (3.8.0)\n",
            "Requirement already satisfied: scikit-learn>=0.22 in /usr/local/lib/python3.10/dist-packages (from secml==0.15.6) (1.5.2)\n",
            "Requirement already satisfied: joblib>=0.14 in /usr/local/lib/python3.10/dist-packages (from secml==0.15.6) (1.4.2)\n",
            "Requirement already satisfied: Pillow>=6.2.1 in /usr/local/lib/python3.10/dist-packages (from secml==0.15.6) (11.0.0)\n",
            "Requirement already satisfied: requests in /usr/local/lib/python3.10/dist-packages (from secml==0.15.6) (2.32.3)\n",
            "Requirement already satisfied: python-dateutil in /usr/local/lib/python3.10/dist-packages (from secml==0.15.6) (2.8.2)\n",
            "Requirement already satisfied: contourpy>=1.0.1 in /usr/local/lib/python3.10/dist-packages (from matplotlib>=3->secml==0.15.6) (1.3.1)\n",
            "Requirement already satisfied: cycler>=0.10 in /usr/local/lib/python3.10/dist-packages (from matplotlib>=3->secml==0.15.6) (0.12.1)\n",
            "Requirement already satisfied: fonttools>=4.22.0 in /usr/local/lib/python3.10/dist-packages (from matplotlib>=3->secml==0.15.6) (4.55.3)\n",
            "Requirement already satisfied: kiwisolver>=1.0.1 in /usr/local/lib/python3.10/dist-packages (from matplotlib>=3->secml==0.15.6) (1.4.7)\n",
            "Requirement already satisfied: packaging>=20.0 in /usr/local/lib/python3.10/dist-packages (from matplotlib>=3->secml==0.15.6) (24.2)\n",
            "Requirement already satisfied: pyparsing>=2.3.1 in /usr/local/lib/python3.10/dist-packages (from matplotlib>=3->secml==0.15.6) (3.2.0)\n",
            "Requirement already satisfied: six>=1.5 in /usr/local/lib/python3.10/dist-packages (from python-dateutil->secml==0.15.6) (1.17.0)\n",
            "Requirement already satisfied: threadpoolctl>=3.1.0 in /usr/local/lib/python3.10/dist-packages (from scikit-learn>=0.22->secml==0.15.6) (3.5.0)\n",
            "Requirement already satisfied: charset-normalizer<4,>=2 in /usr/local/lib/python3.10/dist-packages (from requests->secml==0.15.6) (3.4.0)\n",
            "Requirement already satisfied: idna<4,>=2.5 in /usr/local/lib/python3.10/dist-packages (from requests->secml==0.15.6) (3.10)\n",
            "Requirement already satisfied: urllib3<3,>=1.21.1 in /usr/local/lib/python3.10/dist-packages (from requests->secml==0.15.6) (2.2.3)\n",
            "Requirement already satisfied: certifi>=2017.4.17 in /usr/local/lib/python3.10/dist-packages (from requests->secml==0.15.6) (2024.8.30)\n",
            "Building wheels for collected packages: secml\n",
            "  Building wheel for secml (setup.py) ... \u001b[?25l\u001b[?25hdone\n",
            "  Created wheel for secml: filename=secml-0.15.6-py3-none-any.whl size=464025 sha256=84a00df1f478da4787d113c4816ab23d398c5b3d34634023df541ae8e818327f\n",
            "  Stored in directory: /tmp/pip-ephem-wheel-cache-y8qn6eat/wheels/22/d7/97/6c54183f8e63358a946e938cc5ca912832afe4a0b9d9b3d736\n",
            "Successfully built secml\n",
            "Installing collected packages: secml\n",
            "Successfully installed secml-0.15.6\n"
          ]
        }
      ],
      "source": [
        "try:\n",
        "  import secml\n",
        "except ImportError:\n",
        "  %pip install git+https://github.com/pralab/secml"
      ],
      "metadata": {
        "pycharm": {
          "name": "#%%\n"
        },
        "colab": {
          "base_uri": "https://localhost:8080/"
        },
        "id": "EdJXwQCkc6pW",
        "outputId": "048967c4-773a-4001-bcb3-3ff57fde4ae9"
      }
    },
    {
      "cell_type": "markdown",
      "source": [
        "(OPTIONAL) If you want to use SecML **locally**, you can install it in your environment.\n",
        "\n",
        "Before installing SecML, we strongly suggest to create an environment where to download all the dependancies of the library through Anaconda Python. Follow the linked page to install Miniconda (a minimal version of Conda). After the installation, you can create a conda environment from your command line:\n",
        "\n",
        "```\n",
        "conda create -n secml python=3.8\n",
        "```\n",
        "\n",
        "Once the environment has been installed, you can activate it and install SecML:\n",
        "\n",
        "```\n",
        "conda activate secml\n",
        "python -m pip install \"secml[pytorch,foolbox]\"\n",
        "python -m install notebook\n",
        "```\n",
        "\n",
        "Once the procedure is complete, you can verify that SecML is correctly installed inside your environment. Open a Python interpreter and type:\n",
        "\n",
        "```\n",
        "import secml\n",
        "print(secml.__version__)\n",
        "```\n",
        "\n",
        "Restart the notebook inside the conda environment to continue the exercise. Execute the following code to ensure you can access SecML inside the notebook."
      ],
      "metadata": {
        "collapsed": false,
        "pycharm": {
          "name": "#%% md\n"
        },
        "id": "YI3OP7NDc6pc"
      }
    },
    {
      "cell_type": "markdown",
      "source": [
        "# Part 1 - CArray: the basic data structure\n",
        "\n",
        "The CArray is the base class that is used inside SecML to create vectors and matrices.\n",
        "If you are already familiar with NumPy, you will recognize many functions and helpers along the tutorial."
      ],
      "metadata": {
        "collapsed": false,
        "pycharm": {
          "name": "#%% md\n"
        },
        "id": "ABAG2OTYc6pg"
      }
    },
    {
      "cell_type": "code",
      "execution_count": 8,
      "outputs": [
        {
          "output_type": "stream",
          "name": "stdout",
          "text": [
            "CArray([0 1 2 3])\n",
            "Shape of single-row vector:  (4,)\n",
            "CArray([[1 2 3 4]])\n",
            "(1, 4)\n",
            "CArray([[0 1 2 3]\n",
            " [4 5 6 7]])\n",
            "Shape of 2D vector: (2, 4)\n"
          ]
        }
      ],
      "source": [
        "from secml.array import CArray\n",
        "\n",
        "x = CArray([0,1,2,3])\n",
        "print(x)\n",
        "print('Shape of single-row vector: ', x.shape)\n",
        "new_x = CArray([[1,2,3,4]])\n",
        "print(new_x)\n",
        "print(new_x.shape)\n",
        "x = CArray([[0,1,2,3], [4,5,6,7]])\n",
        "print(x)\n",
        "print('Shape of 2D vector:', x.shape)"
      ],
      "metadata": {
        "pycharm": {
          "name": "#%%\n"
        },
        "colab": {
          "base_uri": "https://localhost:8080/"
        },
        "id": "Gt6Ig4qLc6pj",
        "outputId": "a7051cfa-4744-4c41-cdb8-8d9399e56ca1"
      }
    },
    {
      "cell_type": "markdown",
      "source": [
        "You can perform basic mathematical operations between CArrays:"
      ],
      "metadata": {
        "collapsed": false,
        "pycharm": {
          "name": "#%% md\n"
        },
        "id": "iTnuE-xec6po"
      }
    },
    {
      "cell_type": "code",
      "execution_count": 9,
      "outputs": [
        {
          "output_type": "stream",
          "name": "stdout",
          "text": [
            "CArray([ 6  8 10 12])\n",
            "CArray([-4 -4 -4 -4])\n",
            "CArray([ 5 12 21 32])\n",
            "CArray([0.2      0.333333 0.428571 0.5     ])\n",
            "70\n",
            "CArray([[1]\n",
            " [2]\n",
            " [3]\n",
            " [4]])\n",
            "5.477225575051661\n"
          ]
        }
      ],
      "source": [
        "x1 = CArray([1,2,3,4])\n",
        "x2 = CArray([5,6,7,8])\n",
        "\n",
        "print(x1 + x2)  # element-wise sum\n",
        "print(x1 - x2)  # element-wise subtraction\n",
        "print(x1 * x2)  # element-wise multiplication\n",
        "print(x1 / x2)  # element-wise division\n",
        "print(x1.dot(x2))  # dot product\n",
        "print(x1.T)  # transpose\n",
        "print(x1.norm(order=2))  # compute norm"
      ],
      "metadata": {
        "pycharm": {
          "name": "#%%\n"
        },
        "colab": {
          "base_uri": "https://localhost:8080/"
        },
        "id": "f72M50D7c6ps",
        "outputId": "1e6237b7-3be5-4929-f045-ece307151298"
      }
    },
    {
      "cell_type": "markdown",
      "source": [
        "You can perform operations between **2D** vectors:"
      ],
      "metadata": {
        "collapsed": false,
        "pycharm": {
          "name": "#%% md\n"
        },
        "id": "6DRtqS02c6p1"
      }
    },
    {
      "cell_type": "code",
      "execution_count": 10,
      "outputs": [
        {
          "output_type": "stream",
          "name": "stdout",
          "text": [
            "CArray([[ 6  8 10 12]\n",
            " [ 6  8 10 12]])\n",
            "CArray([[-4 -4 -4 -4]\n",
            " [-4 -4 -4 -4]])\n",
            "CArray([[ 5 12 21 32]\n",
            " [ 5 12 21 32]])\n",
            "CArray([[0.2      0.333333 0.428571 0.5     ]\n",
            " [0.2      0.333333 0.428571 0.5     ]])\n",
            "CArray([[10 12 14 16]\n",
            " [20 24 28 32]\n",
            " [30 36 42 48]\n",
            " [40 48 56 64]])\n",
            "CArray([[1.414214 2.828427 4.242641 5.656854]])\n",
            "CArray([[5.477226]\n",
            " [5.477226]])\n",
            "CArray([1 2 3 4 1 2 3 4]) (8,)\n"
          ]
        }
      ],
      "source": [
        "x1 = CArray([[1,2,3,4],[1,2,3,4]])\n",
        "x2 = CArray([[5,6,7,8], [5,6,7,8]])\n",
        "\n",
        "print(x1 + x2)  # element-wise sum\n",
        "print(x1 - x2)  # element-wise subtraction\n",
        "print(x1 * x2)  # element-wise multiplication\n",
        "print(x1 / x2)  # element-wise division\n",
        "print(x1.T.dot(x2))  # dot product between (4,2) and (2,4) matrices\n",
        "print(x1.norm_2d(order=2, axis=0))  # norm of each column\n",
        "print(x1.norm_2d(order=2, axis=1))  # norm of each row\n",
        "print(x1.flatten(), x1.flatten().shape)  # flatten the matrix to one single row"
      ],
      "metadata": {
        "pycharm": {
          "name": "#%%\n"
        },
        "colab": {
          "base_uri": "https://localhost:8080/"
        },
        "id": "msFSozArc6p5",
        "outputId": "026776f4-c9a5-4bc0-cfba-ffe1c32399f7"
      }
    },
    {
      "cell_type": "markdown",
      "source": [
        "You can import data from numpy, by passing a numpy array to the CArray constructor. **PLEASE REMARK** that the CArray class only supports **2D** data. Passing a high-dimensional data shape will result in a flattened array."
      ],
      "metadata": {
        "collapsed": false,
        "pycharm": {
          "name": "#%% md\n"
        },
        "id": "sRkxxFa2c6p-"
      }
    },
    {
      "cell_type": "code",
      "execution_count": 12,
      "outputs": [
        {
          "output_type": "stream",
          "name": "stdout",
          "text": [
            "Numpy array: [0 1 2 3] with type <class 'numpy.ndarray'>\n",
            "CArray of numpy array: CArray([0 1 2 3]) with type <class 'secml.array.c_array.CArray'>\n",
            "Back to  <class 'numpy.ndarray'>\n",
            "NumPy shape: (10, 10, 10)\n",
            "CArray shape: (10, 100)\n"
          ]
        }
      ],
      "source": [
        "import numpy as np\n",
        "\n",
        "x = np.array([0,1,2,3])\n",
        "print('Numpy array:', x, 'with type', type(x))\n",
        "x = CArray(x)\n",
        "print('CArray of numpy array:', x, 'with type', type(x))\n",
        "x = x.tondarray()\n",
        "print('Back to ', type(x))\n",
        "\n",
        "# demonstrate flatten behavior   this part is important for colored images\n",
        "x = np.random.rand(10,10,10)\n",
        "xc = CArray(x)   # 3d becomes 2d\n",
        "print('NumPy shape:', x.shape)\n",
        "print('CArray shape:', xc.shape)"
      ],
      "metadata": {
        "pycharm": {
          "name": "#%%\n"
        },
        "colab": {
          "base_uri": "https://localhost:8080/"
        },
        "id": "0Mq9B8Odc6qB",
        "outputId": "81a4ae26-552b-4676-fc14-2d8105a29090"
      }
    },
    {
      "cell_type": "markdown",
      "source": [
        "The CArray class offers helper functions to create data from known distributions, like the [Normal Distribution](https://en.wikipedia.org/wiki/Normal_distribution):"
      ],
      "metadata": {
        "collapsed": false,
        "pycharm": {
          "name": "#%% md\n"
        },
        "id": "Q3gr7wD_c6qF"
      }
    },
    {
      "cell_type": "code",
      "execution_count": null,
      "outputs": [],
      "source": [
        "x = CArray.randn((3,3))  # normal distribution\n",
        "print(x)\n",
        "x = CArray.zeros((2,5))  # 2D vector with only zeros\n",
        "print(x)\n",
        "x = CArray.ones((3,3))  # 2D vector with only ones\n",
        "print(x)\n",
        "x = CArray.eye(4,4)\n",
        "print(x)"
      ],
      "metadata": {
        "pycharm": {
          "name": "#%%\n"
        },
        "id": "AxRW2Gpuc6qG"
      }
    },
    {
      "cell_type": "markdown",
      "source": [
        "# Exercise 1\n",
        "Use the code above to complete the assignment.\n",
        "* Create two CArray from the normal distribution with shape (5,6)\n",
        "* Compute the dot product of the two newly-created CArray\n",
        "* Flatten the result and compute the euclidean norm (which order?)\n",
        "* Create an identity of shape (5,5) and a 2D vectors of zeros with shape (5,5)\n",
        "* Sum and multiply the two newly-created CArray"
      ],
      "metadata": {
        "collapsed": false,
        "pycharm": {
          "name": "#%% md\n"
        },
        "id": "zB8VQL-1c6qI"
      }
    },
    {
      "cell_type": "code",
      "execution_count": null,
      "outputs": [],
      "source": [
        "# TODO write your code here\n",
        "x = CArray.randn((5,6))\n",
        "y = CArray.randn((5,6))\n",
        "z = x.T.dot(y)\n"
      ],
      "metadata": {
        "pycharm": {
          "name": "#%%\n"
        },
        "id": "RiOarNJ4c6qK"
      }
    },
    {
      "cell_type": "markdown",
      "source": [
        "# Part 2 - Create datasets\n",
        "\n",
        "We are going to use a simple toy dataset\n",
        " consisting of 3 clusters of points, normally distributed.\n",
        "\n",
        "Each dataset of SecML is a `CDataset` object, consisting of `dataset.X` and `dataset.Y`, where the samples and the corresponding labels are stored, respectively."
      ],
      "metadata": {
        "collapsed": false,
        "pycharm": {
          "name": "#%% md\n"
        },
        "id": "xInkgVYIc6qP"
      }
    },
    {
      "cell_type": "code",
      "execution_count": 13,
      "outputs": [],
      "source": [
        "random_state = 999\n",
        "\n",
        "n_features = 2   # number of features\n",
        "n_samples = 1250   # number of samples\n",
        "centers = [[-2, 0], [2, -2], [2, 2]]   # centers of the clusters\n",
        "cluster_std = 0.8   # standard deviation of the clusters\n",
        "\n",
        "from secml.data.loader import CDLRandomBlobs\n",
        "dataset = CDLRandomBlobs(n_features=n_features,\n",
        "                         centers=centers,\n",
        "                         cluster_std=cluster_std,\n",
        "                         n_samples=n_samples,\n",
        "                         random_state=random_state).load()"
      ],
      "metadata": {
        "pycharm": {
          "name": "#%%\n"
        },
        "id": "xZRpoZv3c6qQ"
      }
    },
    {
      "cell_type": "markdown",
      "source": [
        "The dataset will be split in *training* and *test*, and normalized in the standard interval `[0, 1]` with a *min-max* normalizer."
      ],
      "metadata": {
        "collapsed": false,
        "pycharm": {
          "name": "#%% md\n"
        },
        "id": "64tS1L_kc6qT"
      }
    },
    {
      "cell_type": "code",
      "execution_count": 14,
      "outputs": [],
      "source": [
        "n_tr = 1000  # number of training set samples\n",
        "n_ts = 250  # number of test set samples\n",
        "\n",
        "# split in training and test\n",
        "from secml.data.splitter import CTrainTestSplit\n",
        "splitter = CTrainTestSplit(\n",
        "    train_size=n_tr, test_size=n_ts, random_state=random_state)\n",
        "tr, ts = splitter.split(dataset)\n",
        "\n",
        "# normalize the data\n",
        "from secml.ml.features import CNormalizerMinMax\n",
        "nmz = CNormalizerMinMax()\n",
        "tr.X = nmz.fit_transform(tr.X)\n",
        "ts.X = nmz.transform(ts.X)"
      ],
      "metadata": {
        "pycharm": {
          "name": "#%%\n"
        },
        "id": "FpFDxFsDc6qV"
      }
    },
    {
      "cell_type": "markdown",
      "source": [
        "Let’s visualize the dataset in a 2D plane.\n",
        "The three clusters are clearly separable and normalized as we required."
      ],
      "metadata": {
        "collapsed": false,
        "pycharm": {
          "name": "#%% md\n"
        },
        "id": "auPK5WDic6qY"
      }
    },
    {
      "cell_type": "code",
      "execution_count": 16,
      "outputs": [
        {
          "output_type": "display_data",
          "data": {
            "text/plain": [
              "<Figure size 500x500 with 1 Axes>"
            ],
            "image/png": "[encoded data removed]"
          },
          "metadata": {}
        }
      ],
      "source": [
        "from secml.figure import CFigure\n",
        "# only required for visualization in notebooks\n",
        "%matplotlib inline\n",
        "\n",
        "fig = CFigure(width=5, height=5)\n",
        "\n",
        "# convenience function for plotting a dataset\n",
        "fig.sp.plot_ds(tr)\n",
        "\n",
        "fig.show()"
      ],
      "metadata": {
        "pycharm": {
          "name": "#%%\n"
        },
        "colab": {
          "base_uri": "https://localhost:8080/",
          "height": 469
        },
        "id": "Wr_oQAi0c6qb",
        "outputId": "cd5dda86-bb7d-427f-cc90-f8614b7f8e48"
      }
    },
    {
      "cell_type": "code",
      "source": [
        "from secml.figure import CFigure\n",
        "# only required for visualization in notebooks\n",
        "%matplotlib inline\n",
        "\n",
        "fig = CFigure(width=5, height=5)\n",
        "\n",
        "# convenience function for plotting a dataset\n",
        "fig.sp.plot_ds(ts)\n",
        "\n",
        "fig.show()"
      ],
      "metadata": {
        "colab": {
          "base_uri": "https://localhost:8080/",
          "height": 469
        },
        "id": "HzT2G-x7-v3Q",
        "outputId": "c7aa7c5d-fbbc-4f9a-e2c3-601b450a6ce0"
      },
      "execution_count": 17,
      "outputs": [
        {
          "output_type": "display_data",
          "data": {
            "text/plain": [
              "<Figure size 500x500 with 1 Axes>"
            ],
            "image/png": "[encoded data removed]"
          },
          "metadata": {}
        }
      ]
    },
    {
      "cell_type": "markdown",
      "source": [
        "# Part 3 - Use classifiers with SecML\n",
        "\n",
        "The SecML library offers wrappers for PyTorch and scikit-learn models.\n",
        "More details on the creation and training of models inside SecML can be found on the [GitHub repository](https://github.com/pralab/secml/tree/master/tutorials). Wrapping a model is easy: the library offers classes that accepts models from the desired framework."
      ],
      "metadata": {
        "collapsed": false,
        "pycharm": {
          "name": "#%% md\n"
        },
        "id": "pHa_9-HUc6qf"
      }
    },
    {
      "cell_type": "code",
      "execution_count": 18,
      "outputs": [],
      "source": [
        "# wrapping a scikit-learn classifier\n",
        "from sklearn.svm import SVC\n",
        "from secml.ml.classifiers import CClassifierSkLearn # cannot compute gradient since it is general wrapper. you can use it to wrap random forest which doesn't have gradients.\n",
        "model = SVC()\n",
        "secml_model = CClassifierSkLearn(model)\n",
        "\n",
        "# evasion attack: if you have the model, the best thing to do is to use the gradient to ascent or descent on the loss function\n",
        "# so for gradient based attacks (evasion attack) CClassifierSVM is required.\n",
        "\n",
        "# from secml.ml.classifiers import CClassifierSVM   # this can help you computing gradients\n",
        "# secml_svm = CClassifierSVM()\n",
        "# print(secml_svm)"
      ],
      "metadata": {
        "pycharm": {
          "name": "#%%\n"
        },
        "id": "PJnQUnm9c6qg"
      }
    },
    {
      "cell_type": "markdown",
      "source": [
        "Models can also be trained with SecML. We are going to use the dataset from before."
      ],
      "metadata": {
        "collapsed": false,
        "pycharm": {
          "name": "#%% md\n"
        },
        "id": "U3DxH18wc6qi"
      }
    },
    {
      "cell_type": "code",
      "execution_count": 19,
      "outputs": [
        {
          "output_type": "execute_result",
          "data": {
            "text/plain": [
              "CClassifierSkLearn{'sklearn_model': SVC(), 'classes': CArray(3,)(dense: [0 1 2]), 'n_features': 2, 'preprocess': None, 'n_jobs': 1}"
            ]
          },
          "metadata": {},
          "execution_count": 19
        }
      ],
      "source": [
        "secml_model.fit(tr.X,tr.Y)"
      ],
      "metadata": {
        "pycharm": {
          "name": "#%%\n"
        },
        "colab": {
          "base_uri": "https://localhost:8080/"
        },
        "id": "UGHcjTwfc6qj",
        "outputId": "fcee8b09-0103-4533-890e-e3f85c1c8c98"
      }
    },
    {
      "cell_type": "markdown",
      "source": [
        "## Visualization of the decision regions of the classifiers\n",
        "\n",
        "Once the classifier is trained, we can visualize the *decision regions* over the entire feature space."
      ],
      "metadata": {
        "collapsed": false,
        "pycharm": {
          "name": "#%% md\n"
        },
        "id": "I0q_bK4Pc6qk"
      }
    },
    {
      "cell_type": "code",
      "execution_count": 20,
      "outputs": [
        {
          "output_type": "display_data",
          "data": {
            "text/plain": [
              "<Figure size 500x500 with 1 Axes>"
            ],
            "image/png": "[encoded data removed]"
          },
          "metadata": {}
        }
      ],
      "source": [
        "fig = CFigure(width=5, height=5)\n",
        "\n",
        "# convenience function for plotting the decision function of a classifier\n",
        "fig.sp.plot_decision_regions(secml_model, n_grid_points=200)\n",
        "\n",
        "fig.sp.plot_ds(ts)\n",
        "fig.sp.grid(grid_on=False)\n",
        "\n",
        "fig.sp.title(\"Classification regions\")\n",
        "fig.show()"
      ],
      "metadata": {
        "pycharm": {
          "name": "#%%\n"
        },
        "colab": {
          "base_uri": "https://localhost:8080/",
          "height": 492
        },
        "id": "CU2cOqTDc6qm",
        "outputId": "cd9feb06-b89f-42b9-9d87-8e2c4fe18b95"
      }
    },
    {
      "cell_type": "markdown",
      "source": [
        "Default param of SVC in scikitlearn, SVM that is trained is kernel SVM so it uses nonlinearity. If you want linear you need to specify"
      ],
      "metadata": {
        "id": "zqpTDB4YD1Th"
      }
    },
    {
      "cell_type": "markdown",
      "source": [
        "# Exercise 2\n",
        "\n",
        "* Compute the accuracy of the trained model on the test data, using SecML"
      ],
      "metadata": {
        "collapsed": false,
        "pycharm": {
          "name": "#%% md\n"
        },
        "id": "WvvMGqTFc6qp"
      }
    },
    {
      "cell_type": "code",
      "execution_count": null,
      "outputs": [],
      "source": [
        "# TODO compute predictions\n",
        "\n",
        "# Hints\n",
        "# -----\n",
        "# predictions = secml_model.predict(...)\n",
        "#\n",
        "# # this class computes the accuracy of a model\n",
        "# from secml.ml.peval.metrics import CMetricAccuracy\n",
        "# metric = CMetricAccuracy()\n",
        "#\n",
        "# accuracy = metric.performance_score(y_true=..., y_pred=...)\n",
        "#\n",
        "# print(\"Accuracy on the test set\", accuracy)"
      ],
      "metadata": {
        "pycharm": {
          "name": "#%%\n"
        },
        "id": "AA1RzMXqc6qq"
      }
    },
    {
      "cell_type": "markdown",
      "source": [
        "# Part 3 - PyTorch tutorial in SecML\n",
        "[PyTorch](https://pytorch.org) is a framework for creating deep neural networks, and it is implemented to handle the back-propagation as smooth as possible, by already providing implementations of the most used layers (convolutions, dense, etc.)\n",
        "\n",
        "A PyTorch neural network is defined as a class that defines its architecture and how if performs the forward pass. You can find more examples in the [PyTorch documentation](https://pytorch.org/tutorials/beginner/blitz/cifar10_tutorial.html)."
      ],
      "metadata": {
        "collapsed": false,
        "pycharm": {
          "name": "#%% md\n"
        },
        "id": "z0B7Gw7Nc6qt"
      }
    },
    {
      "cell_type": "code",
      "execution_count": null,
      "outputs": [],
      "source": [
        "from torch import nn\n",
        "import torch\n",
        "\n",
        "class Net(nn.Module):\n",
        "    \"\"\"Model with input size (-1, 28, 28) for MNIST 10-classes dataset.\"\"\"\n",
        "    def __init__(self):\n",
        "        super(Net, self).__init__()\n",
        "        self.conv1 = nn.Conv2d(1, 10, kernel_size=5)\n",
        "        self.conv2 = nn.Conv2d(10, 20, kernel_size=5)\n",
        "        self.conv2_drop = nn.Dropout2d()\n",
        "        self.fc1 = nn.Linear(320, 50)\n",
        "        self.fc2 = nn.Linear(50, 10)\n",
        "\n",
        "    def forward(self, x):\n",
        "        x = torch.relu(torch.max_pool2d(self.conv1(x), 2))\n",
        "        x = torch.relu(torch.max_pool2d(self.conv2_drop(self.conv2(x)), 2))\n",
        "        x = x.view(-1, 320)\n",
        "        x = torch.relu(self.fc1(x))\n",
        "        return self.fc2(x)"
      ],
      "metadata": {
        "pycharm": {
          "name": "#%%\n"
        },
        "id": "jhUsDiMTc6qu"
      }
    },
    {
      "cell_type": "markdown",
      "source": [
        "The `Net` class extends the `Module` PyTorch class, and the constructor `__init__` function specifies the architecture. Note that the last layer has 10 outputs, as the number of classes of our dataset. Then, the `forward` function describes how to pass the input through all the defined layers (with activation functions).\n",
        "\n",
        "Now we download the [MNIST dataset](http://yann.lecun.com/exdb/mnist/) to train the classifier."
      ],
      "metadata": {
        "collapsed": false,
        "pycharm": {
          "name": "#%% md\n"
        },
        "id": "GYNTPHwKc6qw"
      }
    },
    {
      "cell_type": "code",
      "execution_count": null,
      "outputs": [],
      "source": [
        "n_tr = 3000  # number of training samples\n",
        "n_ts = 1000  # number of testing samples\n",
        "\n",
        "from secml.data.loader import CDataLoaderMNIST\n",
        "\n",
        "loader = CDataLoaderMNIST()\n",
        "tr = loader.load('training')\n",
        "ts = loader.load('testing', num_samples=n_ts)\n",
        "\n",
        "# normalize the data\n",
        "tr.X /= 255\n",
        "ts.X /= 255"
      ],
      "metadata": {
        "pycharm": {
          "name": "#%%\n"
        },
        "id": "5TjGgC2kc6qx"
      }
    },
    {
      "cell_type": "markdown",
      "source": [
        "With data and the architecture, we can start the training phase.\n",
        "We will use [Stochastic Gradient Descent](https://en.wikipedia.org/wiki/Stochastic_gradient_descent) to fine-tune the weights of all the layers of the neural network. Lastly, we need a function that quantifies how much the network is performing well while training, that will be used by the optimizer as a guide.\n",
        "We define a *loss function*, in this case the [Cross-entropy loss](https://en.wikipedia.org/wiki/Cross_entropy) that quantify the error committed by the neural network.\n",
        "The larger the loss, the worse the network is behaving. The SGD optimizer will update the model weights to reduce the value of this loss function, and hence creating a network that has a high classification performance."
      ],
      "metadata": {
        "collapsed": false,
        "pycharm": {
          "name": "#%% md\n"
        },
        "id": "HxKJaUCFc6qy"
      }
    },
    {
      "cell_type": "code",
      "execution_count": null,
      "outputs": [],
      "source": [
        "import torch.optim as optim\n",
        "\n",
        "net = Net()\n",
        "optimizer = optim.SGD(net.parameters(), lr=0.001, momentum=0.9)\n",
        "loss_function = nn.CrossEntropyLoss()"
      ],
      "metadata": {
        "pycharm": {
          "name": "#%%\n"
        },
        "id": "d0wlFLFAc6qy"
      }
    },
    {
      "cell_type": "markdown",
      "source": [
        "We can now pass all the ingredients to the SecML wrapper for PyTorch models and train our network."
      ],
      "metadata": {
        "collapsed": false,
        "pycharm": {
          "name": "#%% md\n"
        },
        "id": "vBVKNxBWc6qz"
      }
    },
    {
      "cell_type": "code",
      "execution_count": null,
      "outputs": [],
      "source": [
        "from secml.ml.classifiers import CClassifierPyTorch\n",
        "clf = CClassifierPyTorch(model=net,\n",
        "                         loss=loss_function,\n",
        "                         optimizer=optimizer,\n",
        "                         epochs=3,\n",
        "                         batch_size=20,\n",
        "                         input_shape=(1, 28, 28),\n",
        "                         random_state=0)\n",
        "\n",
        "clf.fit(tr.X, tr.Y)"
      ],
      "metadata": {
        "pycharm": {
          "name": "#%%\n"
        },
        "id": "N8CqKjwQc6q0"
      }
    },
    {
      "cell_type": "markdown",
      "source": [
        "We can now test the trained network on few samples."
      ],
      "metadata": {
        "collapsed": false,
        "pycharm": {
          "name": "#%% md\n"
        },
        "id": "RJIpAO7wc6q0"
      }
    },
    {
      "cell_type": "code",
      "execution_count": null,
      "outputs": [],
      "source": [
        "label_torch = clf.predict(ts.X, return_decision_function=False)\n",
        "\n",
        "from secml.ml.peval.metrics import CMetric\n",
        "metric = CMetric.create('accuracy')\n",
        "acc_torch = metric.performance_score(ts.Y, label_torch)\n",
        "\n",
        "print(\"Model Accuracy: {}\".format(acc_torch))"
      ],
      "metadata": {
        "pycharm": {
          "name": "#%%\n"
        },
        "id": "cf7tdnDAc6q1"
      }
    },
    {
      "cell_type": "markdown",
      "source": [
        "We can now visualize some samples along with their predictions."
      ],
      "metadata": {
        "collapsed": false,
        "pycharm": {
          "name": "#%% md\n"
        },
        "id": "U4G0hgN4c6q2"
      }
    },
    {
      "cell_type": "code",
      "execution_count": null,
      "outputs": [],
      "source": [
        "from secml.figure import CFigure\n",
        "# only required for visualization in notebooks\n",
        "%matplotlib inline\n",
        "\n",
        "# let's define a convenience function to easily plot the MNIST dataset\n",
        "def show_digits(samples, preds, labels, digs, n_display=8):\n",
        "    samples = samples.atleast_2d()\n",
        "    n_display = min(n_display, samples.shape[0])\n",
        "    fig = CFigure(width=n_display*2, height=3)\n",
        "    for idx in range(n_display):\n",
        "        fig.subplot(2, n_display, idx+1)\n",
        "        fig.sp.xticks([])\n",
        "        fig.sp.yticks([])\n",
        "        fig.sp.imshow(samples[idx, :].reshape((28, 28)), cmap='gray')\n",
        "        fig.sp.title(\"{} ({})\".format(digs[labels[idx].item()], digs[preds[idx].item()]),\n",
        "                     color=(\"green\" if labels[idx].item()==preds[idx].item() else \"red\"))\n",
        "    fig.show()\n",
        "\n",
        "digits = list(range(10))\n",
        "show_digits(ts.X[:5, :], clf.predict(ts.X[:5, :]), ts.Y[:5], digits)"
      ],
      "metadata": {
        "pycharm": {
          "name": "#%%\n"
        },
        "id": "38C3h8zPc6q3"
      }
    },
    {
      "cell_type": "markdown",
      "source": [
        "# Exercise 3\n",
        "Use the code of this tutorial as an example to complete the assignment.\n",
        "* Create a sklearn KNN classifier and wrap it with SecML\n",
        "* Create a SecML wrapper for the newly created classifier\n",
        "* Fit the classifier on the MNIST dataset using SecML\n",
        "* Compute the accuracy on the test set\n"
      ],
      "metadata": {
        "collapsed": false,
        "pycharm": {
          "name": "#%% md\n"
        },
        "id": "Slg7-1C5c6q4"
      }
    },
    {
      "cell_type": "code",
      "execution_count": null,
      "outputs": [],
      "source": [
        "# TODO write your code here\n",
        "\n",
        "# Hints\n",
        "# -----\n",
        "#\n",
        "# from sklearn.neighbors import KNeighborsClassifier\n",
        "# sklearn_clf = ...\n",
        "# secml_clf = ...\n",
        "#\n",
        "# # code for training and testing the classifier\n",
        "# ..."
      ],
      "metadata": {
        "pycharm": {
          "name": "#%%\n"
        },
        "id": "MKOsoMzyc6q4"
      }
    }
  ],
  "metadata": {
    "kernelspec": {
      "display_name": "Python 3",
      "language": "python",
      "name": "python3"
    },
    "language_info": {
      "codemirror_mode": {
        "name": "ipython",
        "version": 2
      },
      "file_extension": ".py",
      "mimetype": "text/x-python",
      "name": "python",
      "nbconvert_exporter": "python",
      "pygments_lexer": "ipython2",
      "version": "2.7.6"
    },
    "colab": {
      "provenance": []
    }
  },
  "nbformat": 4,
  "nbformat_minor": 0
}